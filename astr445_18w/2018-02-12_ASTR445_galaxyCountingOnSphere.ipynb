{
 "cells": [
  {
   "cell_type": "markdown",
   "metadata": {},
   "source": [
    "## 2018-01-12 ASTR 445 Galaxy counting on the sphere ##"
   ]
  },
  {
   "cell_type": "markdown",
   "metadata": {},
   "source": [
    "In discussion of number counts of galaxies uniformly distributed on the sphere, the following expressions arise: \n",
    "\\begin{equation}\n",
    "   c = 2 \\pi R^2 n \\left[ 1 - \\cos\\left( \\frac{r}{R} \\right) \\right]\n",
    "\\end{equation}\n",
    "while for flat space, \n",
    "\\begin{equation}\n",
    "    c_f = \\pi r^2 n\n",
    "\\end{equation}\n",
    "On reflection, it's not immediately obvious how to demonstrate which is bigger, $c$~or $c_f$. Here's the comparison:"
   ]
  },
  {
   "cell_type": "markdown",
   "metadata": {},
   "source": [
    "Recognizing that $r = R\\theta$ (using angles in radians), we see that the spherical version becomes\n",
    "\\begin{equation}\n",
    "    c = 2\\pi r^2 n \\left[ \\frac{1 - \\cos\\theta}{\\theta^2} \\right]\n",
    "\\end{equation}\n",
    "which of course becomes\n",
    "\\begin{equation}\n",
    "    c = 2 c_f \\left[ \\frac{1 - \\cos\\theta}{\\theta^2} \\right] \\equiv 2 c_f f(\\theta)\n",
    "\\end{equation}\n",
    "\n",
    "So the question of whether the counts on the sphere are greater or smaller than on the plane, becomes a question of whether the $f(\\theta)$ is bigger or smaller than 0.5.  It's not obvious to me analytically quite how $f(\\theta)$ behaves, so I just do this numerically:\n"
   ]
  },
  {
   "cell_type": "code",
   "execution_count": 1,
   "metadata": {
    "collapsed": true
   },
   "outputs": [],
   "source": [
    "import numpy as np\n",
    "import matplotlib.pylab as plt\n",
    "%matplotlib inline"
   ]
  },
  {
   "cell_type": "code",
   "execution_count": 2,
   "metadata": {
    "collapsed": true
   },
   "outputs": [],
   "source": [
    "theta = np.logspace(-4,0., 1000) * np.pi\n",
    "fTheta = (1 - np.cos(theta))/theta**2"
   ]
  },
  {
   "cell_type": "code",
   "execution_count": 3,
   "metadata": {
    "collapsed": false
   },
   "outputs": [
    {
     "data": {
      "image/png": "[encoded data removed]",
      "text/plain": [
       "<matplotlib.figure.Figure at 0x10943fc90>"
      ]
     },
     "metadata": {},
     "output_type": "display_data"
    }
   ],
   "source": [
    "fig1 = plt.figure(1, figsize=(10,4))\n",
    "ax1 = fig1.add_subplot(121)\n",
    "dum = ax1.plot(theta, fTheta)\n",
    "ax1.set_xlabel(r'$\\theta$', fontsize=16)\n",
    "ax1.set_ylabel(r'$f(\\theta)$', fontsize=16)\n",
    "ax1.grid(which='both')\n",
    "\n",
    "ax2 = fig1.add_subplot(122, sharey=ax1)\n",
    "dum2 = ax2.semilogx(theta, fTheta)\n",
    "ax2.set_xlabel(r'$\\theta$', fontsize=16)\n",
    "#ax2.set_ylabel(r'$f(\\theta)$', fontsize=16)\n",
    "ax2.grid(which='both')\n",
    "dummy = ax2.set_ylim(np.min(fTheta), 0.55)  # [sic]\n",
    "\n",
    "\n"
   ]
  },
  {
   "cell_type": "markdown",
   "metadata": {},
   "source": [
    "And so we see that $f(\\theta) \\le \\frac{1}{2}$, for $0 \\le \\theta \\le \\pi$. Thus, the comparison between $c$~and $c_f$ is clear."
   ]
  },
  {
   "cell_type": "code",
   "execution_count": null,
   "metadata": {
    "collapsed": true
   },
   "outputs": [],
   "source": []
  }
 ],
 "metadata": {
  "kernelspec": {
   "display_name": "Python 2",
   "language": "python",
   "name": "python2"
  },
  "language_info": {
   "codemirror_mode": {
    "name": "ipython",
    "version": 2
   },
   "file_extension": ".py",
   "mimetype": "text/x-python",
   "name": "python",
   "nbconvert_exporter": "python",
   "pygments_lexer": "ipython2",
   "version": "2.7.11"
  }
 },
 "nbformat": 4,
 "nbformat_minor": 0
}
