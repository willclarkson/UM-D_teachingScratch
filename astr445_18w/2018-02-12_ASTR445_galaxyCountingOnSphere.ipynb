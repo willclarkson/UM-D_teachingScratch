{
 "cells": [
  {
   "cell_type": "markdown",
   "metadata": {},
   "source": [
    "## 2018-01-12 ASTR 445 Galaxy counting on the sphere ##"
   ]
  },
  {
   "cell_type": "markdown",
   "metadata": {},
   "source": [
    "In discussion of number counts of galaxies uniformly distributed on the sphere, the following expressions arise: counting on the sphere, the number counted out to distance $r$ is\n",
    "\\begin{equation}\n",
    "   N = 2 \\pi R^2 n \\left[ 1 - \\cos\\left( \\frac{r}{R} \\right) \\right]\n",
    "\\end{equation}\n",
    "while for flat space, \n",
    "\\begin{equation}\n",
    "    N_f = \\pi r^2 n\n",
    "\\end{equation}\n",
    "On reflection, it's not immediately transparent how to demonstrate which is bigger, $N$ or $N_f$, so I develop that here."
   ]
  },
  {
   "cell_type": "markdown",
   "metadata": {},
   "source": [
    "Recognizing that $r = R\\theta$ (using angles in radians), we see that the spherical version becomes\n",
    "\\begin{equation}\n",
    "    N = 2\\pi r^2 n \\left[ \\frac{1 - \\cos\\theta}{\\theta^2} \\right]\n",
    "\\end{equation}\n",
    "which of course becomes\n",
    "\\begin{equation}\n",
    "    N = 2 N_f \\left[ \\frac{1 - \\cos\\theta}{\\theta^2} \\right] \\equiv 2 N_f f(\\theta)\n",
    "\\end{equation}\n",
    "\n",
    "So the question of whether the counts on the sphere are greater or smaller than on the plane, becomes a question of whether the $f(\\theta)$ is bigger or smaller than 0.5. "
   ]
  },
  {
   "cell_type": "markdown",
   "metadata": {},
   "source": [
    "Here's the power series expansion for $f(\\theta)$:\n",
    "\\begin{equation}\n",
    "    f(\\theta) = \\left[ \\frac{1 - \\cos\\theta}{\\theta^2} \\right] = \\frac{1}{2} - \\frac{\\theta^2}{4!} + \\frac{\\theta^4}{6!} - \\frac{\\theta^6}{8!} ...\n",
    "\\end{equation}\n",
    "which by itself suggests that $f(\\theta) \\lesssim 0.5$ (since the terms get smaller and smaller, and the first non-constant is negative). Let's evaluate $f(\\theta)$ numerically to see what does happen."
   ]
  },
  {
   "cell_type": "code",
   "execution_count": 1,
   "metadata": {
    "collapsed": true
   },
   "outputs": [],
   "source": [
    "import numpy as np\n",
    "import matplotlib.pylab as plt\n",
    "%matplotlib inline"
   ]
  },
  {
   "cell_type": "code",
   "execution_count": 2,
   "metadata": {
    "collapsed": true
   },
   "outputs": [],
   "source": [
    "theta = np.logspace(-4,0., 1000) * np.pi\n",
    "fTheta = (1 - np.cos(theta))/theta**2"
   ]
  },
  {
   "cell_type": "code",
   "execution_count": 3,
   "metadata": {
    "collapsed": false
   },
   "outputs": [
    {
     "data": {
      "image/png": "[encoded data removed]",
      "text/plain": [
       "<matplotlib.figure.Figure at 0x10943fc10>"
      ]
     },
     "metadata": {},
     "output_type": "display_data"
    }
   ],
   "source": [
    "fig1 = plt.figure(1, figsize=(12,4))\n",
    "ax1 = fig1.add_subplot(121)\n",
    "dum = ax1.plot(theta, fTheta)\n",
    "ax1.set_xlabel(r'$\\theta$', fontsize=16)\n",
    "ax1.set_ylabel(r'$f(\\theta)$', fontsize=16)\n",
    "ax1.grid(which='both')\n",
    "\n",
    "ax2 = fig1.add_subplot(122, sharey=ax1)\n",
    "dum2 = ax2.semilogx(theta, fTheta)\n",
    "ax2.set_xlabel(r'$\\theta$', fontsize=16)\n",
    "#ax2.set_ylabel(r'$f(\\theta)$', fontsize=16)\n",
    "ax2.grid(which='both')\n",
    "dummy = ax2.set_ylim(np.min(fTheta), 0.55)  # [sic]\n",
    "\n",
    "\n"
   ]
  },
  {
   "cell_type": "markdown",
   "metadata": {},
   "source": [
    "And so we see that $f(\\theta) \\le \\frac{1}{2}$, for $0 \\le \\theta \\le \\pi$. Thus, the comparison between $N$~and $N_f$ is clear."
   ]
  },
  {
   "cell_type": "code",
   "execution_count": null,
   "metadata": {
    "collapsed": true
   },
   "outputs": [],
   "source": []
  }
 ],
 "metadata": {
  "kernelspec": {
   "display_name": "Python 2",
   "language": "python",
   "name": "python2"
  },
  "language_info": {
   "codemirror_mode": {
    "name": "ipython",
    "version": 2
   },
   "file_extension": ".py",
   "mimetype": "text/x-python",
   "name": "python",
   "nbconvert_exporter": "python",
   "pygments_lexer": "ipython2",
   "version": "2.7.11"
  }
 },
 "nbformat": 4,
 "nbformat_minor": 0
}
